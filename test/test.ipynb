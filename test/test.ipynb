{
 "cells": [
  {
   "cell_type": "code",
   "execution_count": 3,
   "metadata": {},
   "outputs": [],
   "source": [
    "from keras.models import load_model\n",
    "from PIL import Image\n",
    "from numpy import expand_dims\n",
    "from numpy import asarray\n",
    "from os import listdir\n",
    "\n",
    "import numpy as np\n",
    "import cv2"
   ]
  },
  {
   "cell_type": "code",
   "execution_count": 2,
   "metadata": {},
   "outputs": [],
   "source": [
    "HaarCascade = cv2.CascadeClassifier(cv2.samples.findFile(cv2.data.haarcascades + 'haarcascade_frontalface_default.xml'))"
   ]
  },
  {
   "cell_type": "code",
   "execution_count": 8,
   "metadata": {},
   "outputs": [],
   "source": [
    "cap = cv2.VideoCapture(1)\n",
    "\n",
    "while(1):\n",
    "    _, img_raw = cap.read()\n",
    "    \n",
    "    faces = HaarCascade.detectMultiScale(img_raw, 1.1, 10)\n",
    "    \n",
    "    if len(faces) > 0 :\n",
    "        x1, y1, w, h = faces[0]\n",
    "    else :\n",
    "        x1, y1, w, h = 1, 1, 50, 50\n",
    "        \n",
    "    x1, y1 = abs(x1), abs(y1)\n",
    "    x2, y2 = x1+w, y1+h\n",
    "    \n",
    "    img = cv2.cvtColor(img_raw, cv2.COLOR_BGR2RGB)\n",
    "    img = Image.fromarray(img)\n",
    "    img_array = asarray(img)\n",
    "    \n",
    "    face = img_array[y1:y2, x1:x2]\n",
    "    \n",
    "    face = Image.fromarray(face)\n",
    "    face = face.resize((160,160))\n",
    "    face = asarray(face)\n",
    "    \n",
    "    face = face.astype('float32')\n",
    "    mean, std = face.mean(), face.std()\n",
    "    face = (face - mean) / std\n",
    "    \n",
    "    face = expand_dims(face, axis=0)\n",
    "    # signature = MyFaceNet.predict(face)\n",
    "    \n",
    "    # y = MyModel.predict(signature)\n",
    "    # y = np.round(y)\n",
    "    # if np.sum(y) == 1 :\n",
    "        # identity = np.where(y[0] == 1)\n",
    "        # identity = labels[identity[0][0]]\n",
    "    # cv2.putText(img_raw, (x1,y1), cv2.FONT_HERSHEY_SIMPLEX, 1, (255,255,0), 2, cv2.LINE_AA)\n",
    "    cv2.rectangle(img_raw, (x1,y1), (x2,y2), (0,255,0), 2)\n",
    "        \n",
    "    cv2.imshow('Face Recognition', img_raw)\n",
    "    \n",
    "    k = cv2.waitKey(5) & 0xFF\n",
    "    if k == 27:\n",
    "        break\n",
    "    \n",
    "cv2.destroyAllWindows()\n",
    "cap.release()"
   ]
  }
 ],
 "metadata": {
  "kernelspec": {
   "display_name": "Python 3.7.13 ('skripsiEnvironment')",
   "language": "python",
   "name": "python3"
  },
  "language_info": {
   "codemirror_mode": {
    "name": "ipython",
    "version": 3
   },
   "file_extension": ".py",
   "mimetype": "text/x-python",
   "name": "python",
   "nbconvert_exporter": "python",
   "pygments_lexer": "ipython3",
   "version": "3.7.13"
  },
  "orig_nbformat": 4,
  "vscode": {
   "interpreter": {
    "hash": "f44a549b130da62f8b83653358bc5dd0cb9baef695b7c1703d1fda907effe250"
   }
  }
 },
 "nbformat": 4,
 "nbformat_minor": 2
}
