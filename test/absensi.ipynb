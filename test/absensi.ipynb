{
 "cells": [
  {
   "cell_type": "code",
   "execution_count": 51,
   "metadata": {},
   "outputs": [],
   "source": [
    "from keras.models import load_model\n",
    "from PIL import Image\n",
    "from numpy import linalg\n",
    "from numpy import expand_dims\n",
    "from numpy import asarray\n",
    "import pickle\n",
    "import cv2\n",
    "import time\n",
    "import json\n",
    "from datetime import datetime"
   ]
  },
  {
   "cell_type": "code",
   "execution_count": null,
   "metadata": {},
   "outputs": [],
   "source": [
    "HaarCascade = cv2.CascadeClassifier(cv2.samples.findFile(cv2.data.haarcascades + 'haarcascade_frontalface_default.xml'))\n",
    "MyFaceNet = load_model(\"D:\\\\College\\\\Semester 8\\\\Coding\\\\Models\\\\FaceNet\\\\facenet_keras.h5\")\n",
    "\n",
    "file = open(\"../Data/signature.pkl\", \"rb\")\n",
    "signatureBase = pickle.load(file)\n",
    "file.close()"
   ]
  },
  {
   "cell_type": "code",
   "execution_count": 61,
   "metadata": {},
   "outputs": [],
   "source": [
    "# data kosong\n",
    "keyNobp = \"18101152630069\"\n",
    "keyNama = \"Muhammad Yasir\"\n",
    "keyPass = \"12345\"\n",
    "\n",
    "data = {keyNobp:[{\"nobp\": keyNobp, \"nama\": keyNama, \"password\": keyPass}]}\n",
    "with open(\"../Data/mahasiswa.json\", \"w\") as mahasiswa:\n",
    "    json.dump(data, mahasiswa, indent=4)"
   ]
  },
  {
   "cell_type": "code",
   "execution_count": 132,
   "metadata": {},
   "outputs": [],
   "source": [
    "# data ada\n",
    "keyNobp = \"18101152630001\"\n",
    "keyNama = \"Zacht Wilhelm Stervan\"\n",
    "keyPass = \"00000\"\n",
    "mahasiswa_path = \"../Data/mahasiswa.json\"\n",
    "\n",
    "with open(\"../Data/mahasiswa.json\", \"r\") as mahasiswa:\n",
    "    data = json.load(mahasiswa)\n",
    "    data.update({keyNobp:[{\"nobp\": keyNobp, \"nama\": keyNama, \"password\": keyPass}]})\n",
    "    json.dump(data, open(mahasiswa_path, \"w\"), indent=4)"
   ]
  },
  {
   "cell_type": "code",
   "execution_count": 103,
   "metadata": {},
   "outputs": [
    {
     "name": "stdout",
     "output_type": "stream",
     "text": [
      "data ditemukan\n",
      "Nobp: 18101152630000 | Nama: Yelf Van Liechanstain | password: ['password']\n"
     ]
    }
   ],
   "source": [
    "key = \"18101152630000\"\n",
    "status = 0\n",
    "with open(\"../Data/mahasiswa.json\", \"r\") as file:\n",
    "    data = json.load(file)\n",
    "    mahasiswa = data[key]\n",
    "    for i in mahasiswa:\n",
    "        status = 1\n",
    "        nobp = i[\"nobp\"]\n",
    "        nama = i[\"nama\"]\n",
    "        password = [\"password\"]\n",
    "            \n",
    "if status != 1:\n",
    "    print(\"data tidak ditemukan\")\n",
    "else:\n",
    "    print(\"data ditemukan\")\n",
    "    print(f\"Nobp: {nobp} | Nama: {nama} | password: {password}\")\n",
    "    \n",
    "    x = datetime.now()\n",
    "    dates = str(x.day) + \"/\" + str(x.month) + \"/\" + str(x.year)\n",
    "    times = str(x.hour) + \":\" + str(x.minute) + \":\" + str(x.second)\n",
    "\n",
    "    with open(\"../Data/absensi.json\", \"r\") as absensi:\n",
    "        data = json.load(absensi)\n",
    "        data.update({\n",
    "            dates:[{\n",
    "                \"date\": dates, \n",
    "                \"time\": times, \n",
    "                \"nobp\": nobp, \n",
    "                \"nama\": nama, \n",
    "                \"ket\": \"Tidak Hadir\"\n",
    "            }]\n",
    "        })\n",
    "        json.dump(data, open(\"../Data/absensi.json\", \"w\"), indent=4)"
   ]
  },
  {
   "cell_type": "code",
   "execution_count": 110,
   "metadata": {},
   "outputs": [
    {
     "name": "stdout",
     "output_type": "stream",
     "text": [
      "data ditemukan\n",
      "Nobp: 18101152630000 | Nama: Yelf Van Liechanstain | password: ['password']\n"
     ]
    }
   ],
   "source": [
    "# menyimpan key di dalam key\n",
    "\n",
    "key = \"18101152630000\"\n",
    "status = 0\n",
    "with open(\"../Data/mahasiswa.json\", \"r\") as file:\n",
    "    data = json.load(file)\n",
    "    mahasiswa = data[key]\n",
    "    for i in mahasiswa:\n",
    "        status = 1\n",
    "        nobp = i[\"nobp\"]\n",
    "        nama = i[\"nama\"]\n",
    "        password = [\"password\"]\n",
    "            \n",
    "if status != 1:\n",
    "    print(\"data tidak ditemukan\")\n",
    "else:\n",
    "    print(\"data ditemukan\")\n",
    "    print(f\"Nobp: {nobp} | Nama: {nama} | password: {password}\")\n",
    "    \n",
    "    x = datetime.now()\n",
    "    dates = str(x.day) + \"/\" + str(x.month) + \"/\" + str(x.year)\n",
    "    times = str(x.hour) + \":\" + str(x.minute) + \":\" + str(x.second)\n",
    "\n",
    "    with open(\"../Data/absensi.json\", \"r\") as absensi:\n",
    "        data = json.load(absensi)\n",
    "        data.update({\n",
    "            dates:[{\n",
    "                nobp:[{\n",
    "                    \"date\": dates, \n",
    "                    \"time\": times, \n",
    "                    \"nobp\": nobp, \n",
    "                    \"nama\": nama, \n",
    "                    \"ket\": \"Tidak Hadir\"\n",
    "                }]\n",
    "            }]\n",
    "        })\n",
    "        json.dump(data, open(\"../Data/absensi.json\", \"w\"), indent=4)"
   ]
  },
  {
   "cell_type": "code",
   "execution_count": 108,
   "metadata": {},
   "outputs": [],
   "source": [
    "# menambah mahasiswa yang hadir dalam satu tanggal\n",
    "\n",
    "x = datetime.now()\n",
    "dates = str(x.day) + \"/\" + str(x.month) + \"/\" + str(x.year)\n",
    "times = str(x.hour) + \":\" + str(x.minute) + \":\" + str(x.second)\n",
    "    \n",
    "with open (\"../Data/absensi.json\") as absensi:\n",
    "    data = json.load(absensi)\n",
    "    temp = data[dates]\n",
    "    y = {\"date\": dates, \"time\": times, \"nobp\": \"18101152630000\", \"nama\": \"Yelf Van Liechanstain\", \"ket\": \"Tidak Hadir\"}\n",
    "    temp.append(y)\n",
    "    \n",
    "    json.dump(data, open(\"../Data/absensi.json\", \"w\"), indent=4)"
   ]
  },
  {
   "cell_type": "code",
   "execution_count": 95,
   "metadata": {},
   "outputs": [
    {
     "name": "stdout",
     "output_type": "stream",
     "text": [
      "[{'18101152630069': [{'date': '13/12/2022', 'time': '17:44:59', 'nobp': '18101152630069', 'nama': 'Muhammad Yasir', 'ket': 'Tidak Hadir'}]}]\n"
     ]
    }
   ],
   "source": [
    "# update keterangan kehadiran\n",
    "\n",
    "x = datetime.now()\n",
    "dates = str(x.day) + \"/\" + str(x.month) + \"/\" + str(x.year)\n",
    "\n",
    "with open (\"../Data/absensi.json\", \"r\") as absensi:\n",
    "    data = json.load(absensi)\n",
    "    absen = data[dates]\n",
    "    print(absen)"
   ]
  },
  {
   "cell_type": "code",
   "execution_count": 316,
   "metadata": {},
   "outputs": [
    {
     "name": "stdout",
     "output_type": "stream",
     "text": [
      "Generate absensi.json\n",
      "File absensi is created\n",
      "Generate key(date)\n",
      "Key(date) for today is created\n"
     ]
    }
   ],
   "source": [
    "# Mempersiapkan file absensi.json\n",
    "from os.path import exists\n",
    "\n",
    "mahasiswa_path = \"../Data/mahasiswa.json\"\n",
    "absensi_path = \"../Data/absensi.json\"\n",
    "x = datetime.now()\n",
    "dates = str(x.day) + \"/\" + str(x.month) + \"/\" + str(x.year)\n",
    "\n",
    "##############################################################################################################################################\n",
    "#   Functions\n",
    "##############################################################################################################################################\n",
    "def generateKeyToday():\n",
    "    with open(absensi_path, \"r\") as absensi:\n",
    "        data = json.load(absensi)\n",
    "        data.update({dates:[]})\n",
    "        json.dump(data, open(absensi_path, \"w\"), indent=4)\n",
    "        print(\"Key(date) for today is created\")\n",
    "##############################################################################################################################################\n",
    "\n",
    "if not exists(absensi_path):                                                    # membuat file absensi.json jika belum ada\n",
    "    print(\"Generate absensi.json\")\n",
    "    data = {}\n",
    "    with open(absensi_path, \"w\") as absensi:\n",
    "        json.dump(data, absensi, indent=4)\n",
    "        print(\"File absensi is created\")\n",
    "    print(\"Generate key(date)\")\n",
    "    generateKeyToday()\n",
    "# else:                                                                           # handler jika file absensi.json sudah ada"
   ]
  },
  {
   "cell_type": "code",
   "execution_count": 346,
   "metadata": {},
   "outputs": [
    {
     "name": "stdout",
     "output_type": "stream",
     "text": [
      "1\n"
     ]
    }
   ],
   "source": [
    "status = 0\n",
    "with open(absensi_path, \"r\") as absensi:\n",
    "    data = json.load(absensi)\n",
    "    for key in data.keys():\n",
    "        if dates == key:\n",
    "            status = 1\n",
    "print(status)"
   ]
  },
  {
   "cell_type": "code",
   "execution_count": 323,
   "metadata": {},
   "outputs": [
    {
     "name": "stdout",
     "output_type": "stream",
     "text": [
      "Generate key(date) if absensi.json is not empty\n",
      "Generate key(nobp): 18101152630069/Muhammad Yasir in key(date)\n",
      "Generate key(nobp): 18101152630000/Yelf Van Liechanstain in key(date)\n",
      "Generate key(nobp): 18101152630001/Zacht Wilhelm Stervan in key(date)\n"
     ]
    }
   ],
   "source": [
    "# Mempersiapkan file absensi.json\n",
    "from os.path import exists\n",
    "\n",
    "mahasiswa_path = \"../Data/mahasiswa.json\"\n",
    "absensi_path = \"../Data/absensi.json\"\n",
    "\n",
    "if not exists(absensi_path):                                                    # membuat file absensi.json jika belum ada\n",
    "    print(\"Generate absensi.json\")\n",
    "    data = {}\n",
    "    with open(absensi_path, \"w\") as absensi:\n",
    "        json.dump(data, absensi, indent=4)\n",
    "        print(\"File absensi is created\")\n",
    "    absensi.close()\n",
    "else:                                                                           # handler jika file absensi.json sudah ada\n",
    "    with open(absensi_path) as absensi:\n",
    "        data = json.load(absensi)\n",
    "        if not data:                                                            # menambah key hari ini jika file absensi.json kosong\n",
    "            print(\"Generate key(date) if absensi.json is empty\")\n",
    "            x = datetime.now()\n",
    "            dates = str(x.day) + \"/\" + str(x.month) + \"/\" + str(x.year)\n",
    "            with open(absensi_path, \"r\") as absensi:\n",
    "                data = json.load(absensi)\n",
    "                data.update({dates:[]})\n",
    "                json.dump(data, open(absensi_path, \"w\"), indent=4)\n",
    "            # # generate daftar hadir hari ini dengan nilai default : \"Tidak Hadir\"\n",
    "            # with open (mahasiswa_path) as dataMahasiswa:\n",
    "            #     mahasiswa = json.load(dataMahasiswa)\n",
    "            #     dataMahasiswa = mahasiswa.values()\n",
    "            #     for data in dataMahasiswa:\n",
    "            #         nobp = data[0][\"nobp\"]\n",
    "            #         nama = data[0][\"nama\"]\n",
    "            #         print(f\"Generate key(nobp): {nobp}/{nama} in key(date)\")\n",
    "                    \n",
    "            #         with open(absensi_path, \"r\") as absensi:\n",
    "            #             data = json.load(absensi)\n",
    "            #             temp = data[dates]\n",
    "            #             y = {nobp:[{\"ket\": \"Tidak Hadir\"}]}\n",
    "            #             temp.append(y)\n",
    "            #             json.dump(data, open(absensi_path, \"w\"), indent=4)\n",
    "        else:                                                                   # menambah key hari ini jika file absensi.json tidak kosong\n",
    "            print(\"Generate key(date) if absensi.json is not empty\")\n",
    "            x = datetime.now()\n",
    "            dates = str(x.day) + \"/\" + str(x.month) + \"/\" + str(x.year)\n",
    "            with open(absensi_path, \"r\") as absensi:\n",
    "                data = json.load(absensi)\n",
    "                data.update({dates:[]})\n",
    "                json.dump(data, open(absensi_path, \"w\"), indent=4)\n",
    "                \n",
    "            # # generate daftar hadir hari ini dengan nilai default : \"Tidak Hadir\"\n",
    "            # with open (mahasiswa_path) as dataMahasiswa:\n",
    "            #     mahasiswa = json.load(dataMahasiswa)\n",
    "            #     dataMahasiswa = mahasiswa.values()\n",
    "            #     for data in dataMahasiswa:\n",
    "            #         nobp = data[0][\"nobp\"]\n",
    "            #         nama = data[0][\"nama\"]\n",
    "            #         print(f\"Generate key(nobp): {nobp}/{nama} in key(date)\")\n",
    "                    \n",
    "            #         with open(absensi_path, \"r\") as absensi:\n",
    "            #             data = json.load(absensi)\n",
    "            #             temp = data[dates]\n",
    "            #             y = {nobp:[{\"ket\": \"Tidak Hadir\"}]}\n",
    "            #             temp.append(y)\n",
    "            #             json.dump(data, open(absensi_path, \"w\"), indent=4)"
   ]
  },
  {
   "cell_type": "code",
   "execution_count": null,
   "metadata": {},
   "outputs": [],
   "source": [
    "# generate daftar hadir hari ini dengan nilai default : \"Tidak Hadir\"\n",
    "with open (mahasiswa_path) as dataMahasiswa:\n",
    "    mahasiswa = json.load(dataMahasiswa)\n",
    "    dataMahasiswa = mahasiswa.values()\n",
    "    for data in dataMahasiswa:\n",
    "        nobp = data[0][\"nobp\"]\n",
    "        nama = data[0][\"nama\"]\n",
    "        print(f\"Generate key(nobp): {nobp}/{nama} in key(date)\")\n",
    "        \n",
    "        with open(absensi_path, \"r\") as absensi:\n",
    "            data = json.load(absensi)\n",
    "            temp = data[dates]\n",
    "            y = {nobp:[{\"ket\": \"Tidak Hadir\"}]}\n",
    "            temp.append(y)\n",
    "            json.dump(data, open(absensi_path, \"w\"), indent=4)"
   ]
  },
  {
   "cell_type": "code",
   "execution_count": null,
   "metadata": {},
   "outputs": [],
   "source": []
  },
  {
   "cell_type": "code",
   "execution_count": null,
   "metadata": {},
   "outputs": [],
   "source": []
  },
  {
   "cell_type": "code",
   "execution_count": null,
   "metadata": {},
   "outputs": [],
   "source": []
  },
  {
   "cell_type": "code",
   "execution_count": null,
   "metadata": {},
   "outputs": [],
   "source": []
  },
  {
   "cell_type": "code",
   "execution_count": null,
   "metadata": {},
   "outputs": [],
   "source": []
  },
  {
   "cell_type": "code",
   "execution_count": null,
   "metadata": {},
   "outputs": [],
   "source": []
  },
  {
   "cell_type": "code",
   "execution_count": null,
   "metadata": {},
   "outputs": [],
   "source": []
  },
  {
   "cell_type": "code",
   "execution_count": null,
   "metadata": {},
   "outputs": [],
   "source": [
    "nobp ='18101152630069'\n",
    "status = 0\n",
    "\n",
    "for key, value in signatureBase.items():\n",
    "    if key == nobp:\n",
    "        status = 1\n",
    "        \n",
    "if status != 1:\n",
    "    print(\"signature tidak ditemukan\")\n",
    "else:\n",
    "    print(value)"
   ]
  },
  {
   "cell_type": "code",
   "execution_count": null,
   "metadata": {},
   "outputs": [],
   "source": [
    "def countdown(t):\n",
    "    cap = cv2.VideoCapture(0)\n",
    "    while t:\n",
    "        mins, secs = divmod(t, 60)\n",
    "        timer = '{:02d}:{:02d}'.format(mins, secs)\n",
    "        print(timer, end=\"\\r\")\n",
    "        \n",
    "        _, imgVideo = cap.read()\n",
    "        cv2.imshow('Face Recognition', imgVideo)\n",
    "        \n",
    "        t -= 1\n",
    "        time.sleep(1)\n",
    "        if t == 0:\n",
    "            break\n",
    "    cv2.destroyAllWindows()\n",
    "    cap.release()"
   ]
  },
  {
   "cell_type": "code",
   "execution_count": null,
   "metadata": {},
   "outputs": [],
   "source": [
    "countdown(10)"
   ]
  },
  {
   "cell_type": "code",
   "execution_count": null,
   "metadata": {},
   "outputs": [],
   "source": [
    "cap = cv2.VideoCapture(0)\n",
    "t=1\n",
    "while t:\n",
    "    _, imgVideo = cap.read()\n",
    "    FaceDetect = HaarCascade.detectMultiScale(imgVideo, 1.3, 10)\n",
    "    \n",
    "    for (x1, y1, width, height) in FaceDetect:\n",
    "        x1, y1 = abs(x1), abs(y1)\n",
    "        x2, y2 = x1 + width, y1 + height\n",
    "        \n",
    "        img = cv2.cvtColor(imgVideo, cv2.COLOR_BGR2RGB)\n",
    "        img = Image.fromarray(img)\n",
    "        img_array = asarray(img)\n",
    "        \n",
    "        face = img_array[y1:y2, x1:x2]\n",
    "        \n",
    "        face = Image.fromarray(face)\n",
    "        face = face.resize((160,160))\n",
    "        wajah = face\n",
    "        face = asarray(face)\n",
    "        \n",
    "        face = face.astype('float32')\n",
    "        mean, std = face.mean(), face.std()\n",
    "        face = (face - mean) / std\n",
    "        \n",
    "        face = expand_dims(face, axis=0)\n",
    "        \n",
    "        cv2.rectangle(imgVideo, (x1,y1), (x2,y2), (0,255,0), 2)\n",
    "    cv2.imshow('Face Recognition', imgVideo)   \n",
    "    \n",
    "    # break\n",
    "    k = cv2.waitKey(5) & 0xFF\n",
    "    if k == 27:\n",
    "        # break\n",
    "        t-=1\n",
    "cv2.destroyAllWindows()\n",
    "cap.release()\n",
    "signature = MyFaceNet.predict(face)\n",
    "wajah"
   ]
  },
  {
   "cell_type": "code",
   "execution_count": null,
   "metadata": {},
   "outputs": [],
   "source": [
    "# face = cv2.imread(\"Muhammad Yasir_front_4.jpg\")\n",
    "# face = cv2.cvtColor(face, cv2.COLOR_BGR2RGB)\n",
    "# face = Image.fromarray(face)\n",
    "# face = face.resize((160,160))\n",
    "# face = asarray(face)\n",
    "# face = face.astype('float32')\n",
    "# mean, std = face.mean(), face.std()\n",
    "# face = (face - mean) / std\n",
    "\n",
    "# face = expand_dims(face, axis=0)\n",
    "# signature = MyFaceNet.predict(face)"
   ]
  },
  {
   "cell_type": "code",
   "execution_count": null,
   "metadata": {},
   "outputs": [],
   "source": [
    "nobp ='18101152630069'\n",
    "status = 0\n",
    "\n",
    "for key, value in signatureBase.items():\n",
    "    if key == nobp:\n",
    "        status = 1\n",
    "        \n",
    "        distance = linalg.norm(value - signature)\n",
    "        # print(distance)\n",
    "        if (distance > 7):\n",
    "            identity = \"Unknown\"\n",
    "        else:\n",
    "            identity = key\n",
    "        print(f\"Label: {identity} dengan distance: {distance}\")\n",
    "        \n",
    "if status != 1:\n",
    "    print(\"signature tidak ditemukan\")"
   ]
  },
  {
   "cell_type": "code",
   "execution_count": null,
   "metadata": {},
   "outputs": [],
   "source": [
    "nobp ='18101152630069'\n",
    "status = 0\n",
    "\n",
    "for key, value in signatureBase.items():\n",
    "    if key == nobp:\n",
    "        status = 1\n",
    "        \n",
    "        # cap = cv2.VideoCapture(0)\n",
    "        cap = cv2.VideoCapture(1)\n",
    "        t=1\n",
    "        while t:\n",
    "            time.sleep(0)\n",
    "            _, imgVideo = cap.read()\n",
    "            FaceDetect = HaarCascade.detectMultiScale(imgVideo, 1.3, 10)\n",
    "            \n",
    "            for (x1, y1, width, height) in FaceDetect:\n",
    "                x1, y1 = abs(x1), abs(y1)\n",
    "                x2, y2 = x1 + width, y1 + height\n",
    "                \n",
    "                img = cv2.cvtColor(imgVideo, cv2.COLOR_BGR2RGB)\n",
    "                img = Image.fromarray(img)\n",
    "                img_array = asarray(img)\n",
    "                \n",
    "                face = img_array[y1:y2, x1:x2]\n",
    "                \n",
    "                face = Image.fromarray(face)\n",
    "                face = face.resize((160,160))\n",
    "                wajah = face\n",
    "                face = asarray(face)\n",
    "                \n",
    "                face = face.astype('float32')\n",
    "                mean, std = face.mean(), face.std()\n",
    "                face = (face - mean) / std\n",
    "                \n",
    "                face = expand_dims(face, axis=0)\n",
    "                signature = MyFaceNet.predict(face)\n",
    "                \n",
    "                distance = linalg.norm(value - signature)\n",
    "                if (distance > 7):\n",
    "                    identity = \"Unknown\"\n",
    "                    cv2.rectangle(imgVideo, (x1,y1), (x2,y2), (0,0,255), 2)\n",
    "                    cv2.rectangle(imgVideo, (x1,y1-40), (x2,y1), (0,0,255), -2)\n",
    "                    cv2.putText(imgVideo, identity, (x1,y1-10), cv2.FONT_HERSHEY_SIMPLEX, 1, (255,255,255), 1, cv2.LINE_AA)\n",
    "                else:\n",
    "                    identity = key\n",
    "                    cv2.rectangle(imgVideo, (x1,y1), (x2,y2), (0,255,0), 2)\n",
    "                    cv2.rectangle(imgVideo, (x1,y1-40), (x2,y1), (0,255,0), -2)\n",
    "                    cv2.putText(imgVideo, identity + \", \" + str(round(distance, 2)), (x1,y1-10), cv2.FONT_HERSHEY_SIMPLEX, 1, (255,255,255), 1, cv2.LINE_AA)\n",
    "                    \n",
    "            cv2.imshow('Face Recognition', imgVideo)   \n",
    "    \n",
    "            k = cv2.waitKey(5) & 0xFF\n",
    "            if k == 27:\n",
    "                t-=1\n",
    "        cv2.destroyAllWindows()\n",
    "        cap.release()\n",
    "        \n",
    "if status != 1:\n",
    "    print(\"signature tidak ditemukan\")\n",
    "    \n",
    "if identity == \"Unknown\":\n",
    "    print(\"Anda tidak hadir\")\n",
    "else:\n",
    "    print(f\"Label: {identity} dengan distance: {distance}\")"
   ]
  }
 ],
 "metadata": {
  "kernelspec": {
   "display_name": "skripsiEnvironment",
   "language": "python",
   "name": "python3"
  },
  "language_info": {
   "codemirror_mode": {
    "name": "ipython",
    "version": 3
   },
   "file_extension": ".py",
   "mimetype": "text/x-python",
   "name": "python",
   "nbconvert_exporter": "python",
   "pygments_lexer": "ipython3",
   "version": "3.7.13"
  },
  "orig_nbformat": 4,
  "vscode": {
   "interpreter": {
    "hash": "f44a549b130da62f8b83653358bc5dd0cb9baef695b7c1703d1fda907effe250"
   }
  }
 },
 "nbformat": 4,
 "nbformat_minor": 2
}
