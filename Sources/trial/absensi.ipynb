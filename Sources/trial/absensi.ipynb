{
 "cells": [
  {
   "attachments": {},
   "cell_type": "markdown",
   "metadata": {},
   "source": [
    "# Import library"
   ]
  },
  {
   "cell_type": "code",
   "execution_count": 1,
   "metadata": {},
   "outputs": [],
   "source": [
    "from os.path import exists\n",
    "from datetime import datetime\n",
    "import json"
   ]
  },
  {
   "attachments": {},
   "cell_type": "markdown",
   "metadata": {},
   "source": [
    "# Load Data"
   ]
  },
  {
   "cell_type": "code",
   "execution_count": 2,
   "metadata": {},
   "outputs": [
    {
     "name": "stdout",
     "output_type": "stream",
     "text": [
      "absensi.json is ready\n",
      "mahasiswa.json is ready\n"
     ]
    }
   ],
   "source": [
    "mahasiswa_path = \"../../Data/mahasiswa.json\"\n",
    "absensi_path = \"../../Data/absensi.json\"\n",
    "x = datetime.now()\n",
    "dates = str(x.day) + \"/\" + str(x.month) + \"/\" + str(x.year)\n",
    "\n",
    "if absensi_path:\n",
    "    print(\"absensi.json is ready\")\n",
    "if mahasiswa_path:\n",
    "    print(\"mahasiswa.json is ready\")"
   ]
  },
  {
   "attachments": {},
   "cell_type": "markdown",
   "metadata": {},
   "source": [
    "# Functions"
   ]
  },
  {
   "attachments": {},
   "cell_type": "markdown",
   "metadata": {},
   "source": [
    "#### View Data"
   ]
  },
  {
   "cell_type": "code",
   "execution_count": 3,
   "metadata": {},
   "outputs": [],
   "source": [
    "def view_data(date):\n",
    "    with open(absensi_path, \"r\") as absensi:\n",
    "        data = json.load(absensi)\n",
    "        # print(data)\n",
    "        for keys, values in data.items():\n",
    "            if keys == date:\n",
    "                return keys,values\n",
    "\n",
    "# view_data(dates)"
   ]
  },
  {
   "attachments": {},
   "cell_type": "markdown",
   "metadata": {},
   "source": [
    "#### Take Attendance"
   ]
  },
  {
   "cell_type": "code",
   "execution_count": 72,
   "metadata": {},
   "outputs": [],
   "source": [
    "def takeAttendance(nobp):\n",
    "    # dates=\"14/12/2022\"    # debug fungsi untuk memastikan perubahan hanya terjadi di hari itu\n",
    "    y = datetime.now()\n",
    "    times = str(y.hour) + \":\" + str(y.minute) + \":\" + str(y.second)\n",
    "    with open(absensi_path, \"r\") as absensi:\n",
    "        data = json.load(absensi)\n",
    "        temp = data[dates]\n",
    "        \n",
    "        newData = []\n",
    "        for mahasiswa in temp:\n",
    "            # print(mahasiswa)        # dictionary mahasiswa dalam objek date\n",
    "            for key, value in mahasiswa.items():\n",
    "                if key == nobp:\n",
    "                    # print(\"mahasiswa ditemukan\")\n",
    "                    newData.append(\n",
    "                        {\n",
    "                            nobp:{\n",
    "                                \"nobp\": value[\"nobp\"],\n",
    "                                \"nama\": value[\"nama\"],\n",
    "                                \"date\": dates,\n",
    "                                \"time\": times,\n",
    "                                \"ket\": \"Hadir\"\n",
    "                    }})\n",
    "                else:\n",
    "                    # print(\"mahasiswa tidak ditemukan\")\n",
    "                    newData.append(mahasiswa)\n",
    "\n",
    "    # print(newData)  # debug nilai newdata sebelum di dump\n",
    "    data.update({dates:newData})\n",
    "    # print(data)\n",
    "    json.dump(data, open(absensi_path, \"w\"), indent=4)\n",
    "\n",
    "takeAttendance(\"18101152630000\")"
   ]
  },
  {
   "attachments": {},
   "cell_type": "markdown",
   "metadata": {},
   "source": [
    "# Take attendance"
   ]
  },
  {
   "cell_type": "code",
   "execution_count": null,
   "metadata": {},
   "outputs": [],
   "source": []
  }
 ],
 "metadata": {
  "kernelspec": {
   "display_name": "skripsiEnvironment",
   "language": "python",
   "name": "python3"
  },
  "language_info": {
   "codemirror_mode": {
    "name": "ipython",
    "version": 3
   },
   "file_extension": ".py",
   "mimetype": "text/x-python",
   "name": "python",
   "nbconvert_exporter": "python",
   "pygments_lexer": "ipython3",
   "version": "3.7.13 (default, Oct 19 2022, 10:19:43) [MSC v.1916 64 bit (AMD64)]"
  },
  "orig_nbformat": 4,
  "vscode": {
   "interpreter": {
    "hash": "f44a549b130da62f8b83653358bc5dd0cb9baef695b7c1703d1fda907effe250"
   }
  }
 },
 "nbformat": 4,
 "nbformat_minor": 2
}
