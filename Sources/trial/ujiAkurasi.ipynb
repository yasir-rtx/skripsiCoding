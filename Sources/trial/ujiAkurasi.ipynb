{
 "cells": [
  {
   "cell_type": "code",
   "execution_count": 1,
   "metadata": {},
   "outputs": [],
   "source": [
    "\n",
    "from keras.models import load_model\n",
    "from PIL import Image\n",
    "from numpy import expand_dims\n",
    "from numpy import asarray\n",
    "from os import listdir\n",
    "import pickle\n",
    "import numpy as np\n",
    "import cv2"
   ]
  },
  {
   "cell_type": "code",
   "execution_count": 2,
   "metadata": {},
   "outputs": [
    {
     "name": "stdout",
     "output_type": "stream",
     "text": [
      "WARNING:tensorflow:No training configuration found in the save file, so the model was *not* compiled. Compile it manually.\n"
     ]
    }
   ],
   "source": [
    "HaarCascade = cv2.CascadeClassifier(cv2.samples.findFile(cv2.data.haarcascades + 'haarcascade_frontalface_default.xml'))\n",
    "MyFaceNet = load_model(\"../../Models/FaceNet/facenet_keras.h5\")\n",
    "\n",
    "test_path = \"../../../Dataset/Test/18101152630087 - Ririn Pricila//\"\n",
    "\n",
    "myfile = open(\"../../Data/signature.pkl\", \"rb\")\n",
    "db = pickle.load(myfile)\n",
    "myfile.close()"
   ]
  },
  {
   "cell_type": "code",
   "execution_count": 21,
   "metadata": {},
   "outputs": [],
   "source": [
    "# for key in db.items():\n",
    "    # print(key)\n",
    "    \n",
    "    # if key == \"21101152630099\":\n",
    "    #     del db[key]\n",
    "\n",
    "# with open(\"../../Data/signature.pkl\", \"wb\") as f:\n",
    "#     pickle.dump(db, f)"
   ]
  },
  {
   "cell_type": "code",
   "execution_count": null,
   "metadata": {},
   "outputs": [],
   "source": [
    "for i,path in enumerate(listdir(test_path)):\n",
    "    path = test_path + path\n",
    "    \n",
    "    img = cv2.imread(path)\n",
    "    img = cv2.cvtColor(img, cv2.COLOR_BGR2RGB)\n",
    "    img = Image.fromarray(img)\n",
    "    img = img.resize((160,160))\n",
    "    img = asarray(img)\n",
    "    \n",
    "    img = img.astype(\"float32\")\n",
    "    mean, std = img.mean(), img.std()\n",
    "    img = (img - mean) / std\n",
    "    \n",
    "    img = expand_dims(img, axis=0)\n",
    "    print(path)\n",
    "    signature = MyFaceNet.predict(img)\n",
    "    \n",
    "    distance = 100\n",
    "    identity = \"\"\n",
    "    for key, value in db.items():\n",
    "        dist = np.linalg.norm(value - signature)\n",
    "        if dist < distance:\n",
    "            identity = key\n",
    "            distance = dist\n",
    "    print(identity, end=\"\\n\\n\")"
   ]
  }
 ],
 "metadata": {
  "kernelspec": {
   "display_name": "skripsiEnvironment",
   "language": "python",
   "name": "python3"
  },
  "language_info": {
   "codemirror_mode": {
    "name": "ipython",
    "version": 3
   },
   "file_extension": ".py",
   "mimetype": "text/x-python",
   "name": "python",
   "nbconvert_exporter": "python",
   "pygments_lexer": "ipython3",
   "version": "3.7.13"
  },
  "orig_nbformat": 4,
  "vscode": {
   "interpreter": {
    "hash": "f44a549b130da62f8b83653358bc5dd0cb9baef695b7c1703d1fda907effe250"
   }
  }
 },
 "nbformat": 4,
 "nbformat_minor": 2
}
