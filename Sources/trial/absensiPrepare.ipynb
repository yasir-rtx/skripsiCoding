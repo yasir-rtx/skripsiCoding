{
 "cells": [
  {
   "attachments": {},
   "cell_type": "markdown",
   "metadata": {},
   "source": [
    "# Import Library"
   ]
  },
  {
   "cell_type": "code",
   "execution_count": 21,
   "metadata": {},
   "outputs": [],
   "source": [
    "from os.path import exists\n",
    "from datetime import datetime\n",
    "import json"
   ]
  },
  {
   "attachments": {},
   "cell_type": "markdown",
   "metadata": {},
   "source": [
    "# Import file dan Path yang dibutuhkan"
   ]
  },
  {
   "cell_type": "code",
   "execution_count": 22,
   "metadata": {},
   "outputs": [],
   "source": [
    "mahasiswa_path = \"../../Data/mahasiswa.json\"\n",
    "absensi_path = \"../../Data/absensi.json\"\n",
    "x = datetime.now()\n",
    "dates = str(x.day) + \"/\" + str(x.month) + \"/\" + str(x.year)"
   ]
  },
  {
   "attachments": {},
   "cell_type": "markdown",
   "metadata": {},
   "source": [
    "# Functions"
   ]
  },
  {
   "attachments": {},
   "cell_type": "markdown",
   "metadata": {},
   "source": [
    "### Generate File"
   ]
  },
  {
   "cell_type": "code",
   "execution_count": 23,
   "metadata": {},
   "outputs": [],
   "source": [
    "def generateAbsensiFile(data):\n",
    "    print(\"Generate file : absensi.json\")\n",
    "    with open(absensi_path, \"w\") as absensi:\n",
    "        json.dump(data, absensi, indent=4)\n",
    "    print(\"File absensi is created\\n\")\n",
    "    \n",
    "# generateAbsensiFile({})"
   ]
  },
  {
   "attachments": {},
   "cell_type": "markdown",
   "metadata": {},
   "source": [
    "### Generate Date Key"
   ]
  },
  {
   "cell_type": "code",
   "execution_count": 24,
   "metadata": {},
   "outputs": [],
   "source": [
    "def generateKeyDate(date):\n",
    "    print(f\"Generate key({date})\")\n",
    "    with open(absensi_path, \"r\") as absensi:\n",
    "        data = json.load(absensi)\n",
    "        data.update({date:[]})\n",
    "        json.dump(data, open(absensi_path, \"w\"), indent=4)\n",
    "    print(f\"Key({date}) for today is created\\n\")\n",
    "    \n",
    "# generateKeyDate(\"12/12/2022\")"
   ]
  },
  {
   "attachments": {},
   "cell_type": "markdown",
   "metadata": {},
   "source": [
    "### Generate List Mahasiswa"
   ]
  },
  {
   "cell_type": "code",
   "execution_count": 25,
   "metadata": {},
   "outputs": [],
   "source": [
    "def generateListMahasiswa(date):\n",
    "    print(\"Generate Mahasiswa Key\")\n",
    "    \n",
    "    with open(mahasiswa_path, \"r\") as file:\n",
    "        mahasiswa = json.load(file)\n",
    "        \n",
    "        mahasiwaKey = mahasiswa.keys()\n",
    "        # # debug mahasiswa key\n",
    "        # for key in mahasiwaKey:\n",
    "        #     print(key)\n",
    "        \n",
    "        mahasiswaValue = mahasiswa.values()\n",
    "        # # debug mahasiswa value\n",
    "        # for value in mahasiswaValue:\n",
    "        #     print(value[0]) # [0] value mahasiswa dalam bentuk array\n",
    "        \n",
    "        # Generate mahasiswa key into date object in absensi.json\n",
    "        for value in mahasiswaValue:\n",
    "            # store nobp value into temporary variable\n",
    "            nobp = value[0][\"nobp\"]\n",
    "            print(f\"Generate Mahasiswa Key for {nobp}\")\n",
    "            with open(absensi_path, \"r\") as absensi:\n",
    "                # Generate mahasiswa value into date object in absensi.json\n",
    "                y = {nobp:{\n",
    "                    \"nobp\": nobp,\n",
    "                    \"nama\": value[0][\"nama\"],\n",
    "                    \"date\": date,\n",
    "                    \"time\": \"-\",\n",
    "                    \"ket\": \"Tidak Hadir\"\n",
    "                }}\n",
    "                \n",
    "                data = json.load(absensi)\n",
    "                # metode dump\n",
    "                temp = data[date]   # akses object hari ini\n",
    "                temp.append(y)\n",
    "                json.dump(data, open(absensi_path, \"w\"), indent=4)\n",
    "                \n",
    "                # # metode update\n",
    "                # data.update(y)\n",
    "                # json.dump(data, open(absensi_path, \"w\"), indent=4)\n",
    "                \n",
    "                # print(data)\n",
    "                print(f\"Key({nobp}) is generated into object({date})\\n\")\n",
    "\n",
    "    print(\"Mahasiswa Key is generated\\n\")\n",
    "    \n",
    "# generateListMahasiswa(\"12/12/2022\")"
   ]
  },
  {
   "attachments": {},
   "cell_type": "markdown",
   "metadata": {},
   "source": [
    "# Prepare absensi.json"
   ]
  },
  {
   "cell_type": "code",
   "execution_count": 29,
   "metadata": {},
   "outputs": [
    {
     "name": "stdout",
     "output_type": "stream",
     "text": [
      "Generate key(14/12/2022)\n",
      "Key(14/12/2022) for today is created\n",
      "\n",
      "Generate Mahasiswa Key\n",
      "Generate Mahasiswa Key for 18101152630069\n",
      "Key(18101152630069) is generated into object(14/12/2022)\n",
      "\n",
      "Generate Mahasiswa Key for 18101152630000\n",
      "Key(18101152630000) is generated into object(14/12/2022)\n",
      "\n",
      "Generate Mahasiswa Key for 18101152630001\n",
      "Key(18101152630001) is generated into object(14/12/2022)\n",
      "\n",
      "Mahasiswa Key is generated\n",
      "\n",
      "Menu Utama dijalankan\n"
     ]
    }
   ],
   "source": [
    "date = \"14/12/2022\"\n",
    "\n",
    "if not exists(absensi_path):                                    # create absensi.json\n",
    "    generateAbsensiFile({})\n",
    "    generateKeyDate(date)\n",
    "    generateListMahasiswa(date)\n",
    "else:                                                           # if absensi.json has been created\n",
    "    # check if date object is already made or not\n",
    "    finding = 0\n",
    "    with open(absensi_path, \"r\") as absensi:\n",
    "        data = json.load(absensi)\n",
    "        dates = data.keys()\n",
    "        for dateFound in dates:\n",
    "            if dateFound == date:\n",
    "                finding = 1\n",
    "\n",
    "    if finding == 1:                                            # prevent object(date) from being reset\n",
    "        print(\"File absensi.json is ready\\n\")\n",
    "    else:                                                       # generate object(date)\n",
    "        generateKeyDate(date)\n",
    "        generateListMahasiswa(date)\n",
    "\n",
    "print(\"Menu Utama dijalankan\")"
   ]
  }
 ],
 "metadata": {
  "kernelspec": {
   "display_name": "skripsiEnvironment",
   "language": "python",
   "name": "python3"
  },
  "language_info": {
   "codemirror_mode": {
    "name": "ipython",
    "version": 3
   },
   "file_extension": ".py",
   "mimetype": "text/x-python",
   "name": "python",
   "nbconvert_exporter": "python",
   "pygments_lexer": "ipython3",
   "version": "3.7.13"
  },
  "orig_nbformat": 4,
  "vscode": {
   "interpreter": {
    "hash": "f44a549b130da62f8b83653358bc5dd0cb9baef695b7c1703d1fda907effe250"
   }
  }
 },
 "nbformat": 4,
 "nbformat_minor": 2
}
