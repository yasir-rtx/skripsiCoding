{
 "cells": [
  {
   "cell_type": "code",
   "execution_count": 1,
   "metadata": {},
   "outputs": [],
   "source": [
    "from os.path import exists\n",
    "from datetime import datetime\n",
    "import json"
   ]
  },
  {
   "cell_type": "code",
   "execution_count": 2,
   "metadata": {},
   "outputs": [],
   "source": [
    "mahasiswa_path = \"../../Data/mahasiswa.json\"\n",
    "absensi_path = \"../../Data/absensi.json\"\n",
    "x = datetime.now()\n",
    "dates = str(x.day) + \"/\" + str(x.month) + \"/\" + str(x.year)"
   ]
  },
  {
   "attachments": {},
   "cell_type": "markdown",
   "metadata": {},
   "source": [
    "##### Pick nobp in mahasiswa.json"
   ]
  },
  {
   "cell_type": "code",
   "execution_count": null,
   "metadata": {},
   "outputs": [],
   "source": [
    "with open(mahasiswa_path, \"r\") as file:\n",
    "    mahasiswa =  json.load(file)\n",
    "    keys, values = mahasiswa.keys(), mahasiswa.values()\n",
    "    \n",
    "    for key in keys:\n",
    "        print(key)"
   ]
  },
  {
   "attachments": {},
   "cell_type": "markdown",
   "metadata": {},
   "source": [
    "##### Pick nobp in absensi.json"
   ]
  },
  {
   "cell_type": "code",
   "execution_count": null,
   "metadata": {},
   "outputs": [],
   "source": [
    "with open(absensi_path, \"r\") as absensi:\n",
    "    data = json.load(absensi)               # load absensi.json\n",
    "    temp = data[dates]                      # load today attendance\n",
    "    \n",
    "    for mahasiswa in temp:                  # pick mahasiswa dictionary\n",
    "        # print(mahasiswa)\n",
    "        for key, value in mahasiswa.items():\n",
    "            print(key)"
   ]
  },
  {
   "cell_type": "code",
   "execution_count": 67,
   "metadata": {},
   "outputs": [],
   "source": [
    "def cekNobp(nobp):\n",
    "    with open(absensi_path, \"r\") as absensi:\n",
    "        data = json.load(absensi)\n",
    "        temp = data[dates]\n",
    "        \n",
    "        newData = []\n",
    "        status = 0\n",
    "        for mahasiswa in temp:\n",
    "            for key, value in mahasiswa.items():\n",
    "                if key == nobp:\n",
    "                    status = 1\n",
    "        # print(status)   # Jika status = 0, artinya nobp belum ada di dalam absensi.json\n",
    "        return status\n",
    "\n",
    "def generateNewNobp(nobp):\n",
    "    with open(absensi_path, \"r\") as absensi:\n",
    "        data = json.load(absensi)\n",
    "        temp = data[dates]\n",
    "        \n",
    "            \n",
    "        newData = []\n",
    "        for y in temp:\n",
    "            newData.append(y)\n",
    "        \n",
    "        # print(newData)\n",
    "        \n",
    "        with open(mahasiswa_path, \"r\") as mahasiswa:\n",
    "            entry = json.load(mahasiswa)\n",
    "            value = entry[nobp][0]\n",
    "        \n",
    "        newData.append(\n",
    "            {\n",
    "                nobp:{\n",
    "                    \"nobp\": value[\"nobp\"],\n",
    "                    \"nama\": value[\"nama\"],\n",
    "                    \"date\": dates,\n",
    "                    \"time\": \"-\",\n",
    "                    \"ket\": \"Tidak Hadir\"\n",
    "        }})\n",
    "        \n",
    "    # print(newData)\n",
    "    data.update({dates:newData})\n",
    "    # print(data)\n",
    "    json.dump(data, open(absensi_path, \"w\"), indent=4)\n",
    "    \n",
    "if not cekNobp(\"18101152630000\"):\n",
    "    generateNewNobp(\"18101152630000\")"
   ]
  }
 ],
 "metadata": {
  "kernelspec": {
   "display_name": "skripsiEnvironment",
   "language": "python",
   "name": "python3"
  },
  "language_info": {
   "codemirror_mode": {
    "name": "ipython",
    "version": 3
   },
   "file_extension": ".py",
   "mimetype": "text/x-python",
   "name": "python",
   "nbconvert_exporter": "python",
   "pygments_lexer": "ipython3",
   "version": "3.7.13"
  },
  "orig_nbformat": 4,
  "vscode": {
   "interpreter": {
    "hash": "f44a549b130da62f8b83653358bc5dd0cb9baef695b7c1703d1fda907effe250"
   }
  }
 },
 "nbformat": 4,
 "nbformat_minor": 2
}
