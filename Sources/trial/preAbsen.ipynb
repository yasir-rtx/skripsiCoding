{
 "cells": [
  {
   "cell_type": "code",
   "execution_count": 1,
   "metadata": {},
   "outputs": [],
   "source": [
    "# Import Library\n",
    "from os.path import exists\n",
    "from datetime import datetime\n",
    "import json\n",
    "\n",
    "# Load Data\n",
    "mahasiswa_path = \"../../Data/mahasiswa.json\""
   ]
  },
  {
   "cell_type": "code",
   "execution_count": 13,
   "metadata": {},
   "outputs": [
    {
     "name": "stdout",
     "output_type": "stream",
     "text": [
      "Absensi Tidak dapat dilakukan.\n",
      "Cause: Tidak data wajah yang tersimpan.\n",
      "Solution: Silahkan lakukan training wajah setidaknya untuk satu user.\n"
     ]
    }
   ],
   "source": [
    "def preAbsen():\n",
    "    with open(mahasiswa_path, \"r\") as mahasiswa:\n",
    "        data = json.load(mahasiswa)\n",
    "        # Check mahasiswa.json is empty\n",
    "        if data == {}:\n",
    "            print(\"Absensi Tidak dapat dilakukan.\\nCause: Tidak data wajah yang tersimpan.\\nSolution: Silahkan lakukan training wajah setidaknya untuk satu user.\")\n",
    "        else:\n",
    "            print(\"Ambil Absensi\", \"Ambil absensi dapat dilakukan\")\n",
    "                \n",
    "preAbsen()"
   ]
  }
 ],
 "metadata": {
  "kernelspec": {
   "display_name": "skripsiEnvironment",
   "language": "python",
   "name": "python3"
  },
  "language_info": {
   "codemirror_mode": {
    "name": "ipython",
    "version": 3
   },
   "file_extension": ".py",
   "mimetype": "text/x-python",
   "name": "python",
   "nbconvert_exporter": "python",
   "pygments_lexer": "ipython3",
   "version": "3.7.13"
  },
  "orig_nbformat": 4,
  "vscode": {
   "interpreter": {
    "hash": "f44a549b130da62f8b83653358bc5dd0cb9baef695b7c1703d1fda907effe250"
   }
  }
 },
 "nbformat": 4,
 "nbformat_minor": 2
}
